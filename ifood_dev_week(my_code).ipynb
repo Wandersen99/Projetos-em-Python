{
  "nbformat": 4,
  "nbformat_minor": 0,
  "metadata": {
    "colab": {
      "provenance": []
    },
    "kernelspec": {
      "name": "python3",
      "display_name": "Python 3"
    },
    "language_info": {
      "name": "python"
    }
  },
  "cells": [
    {
      "cell_type": "markdown",
      "source": [
        "# iFood Dev Week\n",
        "\n",
        "Saiba mais sobre essa semana incrível no Artigo [Desvendando a iFood Dev Week](https://www.dio.me/articles/desvendando-a-ifood-dev-week)."
      ],
      "metadata": {
        "id": "oPigZArHe3d_"
      }
    },
    {
      "cell_type": "markdown",
      "source": [
        "## Dia 1: Conheça o Google Colab e o Projeto Desta Dev Week\n",
        "\n",
        "Vamos mergulhar no Google Colab, aprendendo como ele pode ser usado para automatizar tarefas cotidianas, principalmente através da manipulação de planilhas. Além disso, você aprenderá na prática o conceito do Net Promoter Score (NPS), uma métrica fundamental para entender a satisfação do cliente."
      ],
      "metadata": {
        "id": "VJ9ncXpVjIz9"
      }
    },
    {
      "cell_type": "code",
      "source": [
        "# Importação dos dados\n",
        "\"\"\"\n",
        "Este código acessa um arquivo CSV de feedbacks do Google Drive através do link do download desse arquivo e carrega os dados em um DataFrame pandas.\n",
        "OBS: Caso precise realizar o download do arquivo, basta copiar e colar o link abaixo em uma aba do navegador\"\"\"\n",
        "\n",
        "import pandas as pd\n",
        "\n",
        "url = f'https://drive.google.com/uc?id=1_nyLNsT55X37Y0KDBXVXzSYsX-SoSqZi'\n",
        "dados_df = pd.read_csv(url, sep = ';')\n",
        "dados_df"
      ],
      "metadata": {
        "colab": {
          "base_uri": "https://localhost:8080/",
          "height": 300
        },
        "id": "ULsBBlxb7hB9",
        "outputId": "8c33f6f5-8d71-4745-b59a-768d07d34c20"
      },
      "execution_count": 51,
      "outputs": [
        {
          "output_type": "execute_result",
          "data": {
            "text/plain": [
              "   nota                                         comentario\n",
              "0    10        Excelente Bootcamp, estou muito satisfeita!\n",
              "1     9  Bootcamp top, mas mentorias de IA o tornariam ...\n",
              "2     6  Um Bootcamp razoável, torcendo para o próximo ...\n",
              "3    10  Bootcamp incrível, continuem potencializando a...\n",
              "4     7               O Bootcamp foi ok, nada de especial.\n",
              "5     9                                      Show de bola!\n",
              "6    10                          Melhor Bootcamp de todos!\n",
              "7     0                                          Horrível!"
            ],
            "text/html": [
              "\n",
              "  <div id=\"df-0b232f60-9040-4fb3-92ac-2328fe783460\">\n",
              "    <div class=\"colab-df-container\">\n",
              "      <div>\n",
              "<style scoped>\n",
              "    .dataframe tbody tr th:only-of-type {\n",
              "        vertical-align: middle;\n",
              "    }\n",
              "\n",
              "    .dataframe tbody tr th {\n",
              "        vertical-align: top;\n",
              "    }\n",
              "\n",
              "    .dataframe thead th {\n",
              "        text-align: right;\n",
              "    }\n",
              "</style>\n",
              "<table border=\"1\" class=\"dataframe\">\n",
              "  <thead>\n",
              "    <tr style=\"text-align: right;\">\n",
              "      <th></th>\n",
              "      <th>nota</th>\n",
              "      <th>comentario</th>\n",
              "    </tr>\n",
              "  </thead>\n",
              "  <tbody>\n",
              "    <tr>\n",
              "      <th>0</th>\n",
              "      <td>10</td>\n",
              "      <td>Excelente Bootcamp, estou muito satisfeita!</td>\n",
              "    </tr>\n",
              "    <tr>\n",
              "      <th>1</th>\n",
              "      <td>9</td>\n",
              "      <td>Bootcamp top, mas mentorias de IA o tornariam ...</td>\n",
              "    </tr>\n",
              "    <tr>\n",
              "      <th>2</th>\n",
              "      <td>6</td>\n",
              "      <td>Um Bootcamp razoável, torcendo para o próximo ...</td>\n",
              "    </tr>\n",
              "    <tr>\n",
              "      <th>3</th>\n",
              "      <td>10</td>\n",
              "      <td>Bootcamp incrível, continuem potencializando a...</td>\n",
              "    </tr>\n",
              "    <tr>\n",
              "      <th>4</th>\n",
              "      <td>7</td>\n",
              "      <td>O Bootcamp foi ok, nada de especial.</td>\n",
              "    </tr>\n",
              "    <tr>\n",
              "      <th>5</th>\n",
              "      <td>9</td>\n",
              "      <td>Show de bola!</td>\n",
              "    </tr>\n",
              "    <tr>\n",
              "      <th>6</th>\n",
              "      <td>10</td>\n",
              "      <td>Melhor Bootcamp de todos!</td>\n",
              "    </tr>\n",
              "    <tr>\n",
              "      <th>7</th>\n",
              "      <td>0</td>\n",
              "      <td>Horrível!</td>\n",
              "    </tr>\n",
              "  </tbody>\n",
              "</table>\n",
              "</div>\n",
              "      <button class=\"colab-df-convert\" onclick=\"convertToInteractive('df-0b232f60-9040-4fb3-92ac-2328fe783460')\"\n",
              "              title=\"Convert this dataframe to an interactive table.\"\n",
              "              style=\"display:none;\">\n",
              "        \n",
              "  <svg xmlns=\"http://www.w3.org/2000/svg\" height=\"24px\"viewBox=\"0 0 24 24\"\n",
              "       width=\"24px\">\n",
              "    <path d=\"M0 0h24v24H0V0z\" fill=\"none\"/>\n",
              "    <path d=\"M18.56 5.44l.94 2.06.94-2.06 2.06-.94-2.06-.94-.94-2.06-.94 2.06-2.06.94zm-11 1L8.5 8.5l.94-2.06 2.06-.94-2.06-.94L8.5 2.5l-.94 2.06-2.06.94zm10 10l.94 2.06.94-2.06 2.06-.94-2.06-.94-.94-2.06-.94 2.06-2.06.94z\"/><path d=\"M17.41 7.96l-1.37-1.37c-.4-.4-.92-.59-1.43-.59-.52 0-1.04.2-1.43.59L10.3 9.45l-7.72 7.72c-.78.78-.78 2.05 0 2.83L4 21.41c.39.39.9.59 1.41.59.51 0 1.02-.2 1.41-.59l7.78-7.78 2.81-2.81c.8-.78.8-2.07 0-2.86zM5.41 20L4 18.59l7.72-7.72 1.47 1.35L5.41 20z\"/>\n",
              "  </svg>\n",
              "      </button>\n",
              "      \n",
              "  <style>\n",
              "    .colab-df-container {\n",
              "      display:flex;\n",
              "      flex-wrap:wrap;\n",
              "      gap: 12px;\n",
              "    }\n",
              "\n",
              "    .colab-df-convert {\n",
              "      background-color: #E8F0FE;\n",
              "      border: none;\n",
              "      border-radius: 50%;\n",
              "      cursor: pointer;\n",
              "      display: none;\n",
              "      fill: #1967D2;\n",
              "      height: 32px;\n",
              "      padding: 0 0 0 0;\n",
              "      width: 32px;\n",
              "    }\n",
              "\n",
              "    .colab-df-convert:hover {\n",
              "      background-color: #E2EBFA;\n",
              "      box-shadow: 0px 1px 2px rgba(60, 64, 67, 0.3), 0px 1px 3px 1px rgba(60, 64, 67, 0.15);\n",
              "      fill: #174EA6;\n",
              "    }\n",
              "\n",
              "    [theme=dark] .colab-df-convert {\n",
              "      background-color: #3B4455;\n",
              "      fill: #D2E3FC;\n",
              "    }\n",
              "\n",
              "    [theme=dark] .colab-df-convert:hover {\n",
              "      background-color: #434B5C;\n",
              "      box-shadow: 0px 1px 3px 1px rgba(0, 0, 0, 0.15);\n",
              "      filter: drop-shadow(0px 1px 2px rgba(0, 0, 0, 0.3));\n",
              "      fill: #FFFFFF;\n",
              "    }\n",
              "  </style>\n",
              "\n",
              "      <script>\n",
              "        const buttonEl =\n",
              "          document.querySelector('#df-0b232f60-9040-4fb3-92ac-2328fe783460 button.colab-df-convert');\n",
              "        buttonEl.style.display =\n",
              "          google.colab.kernel.accessAllowed ? 'block' : 'none';\n",
              "\n",
              "        async function convertToInteractive(key) {\n",
              "          const element = document.querySelector('#df-0b232f60-9040-4fb3-92ac-2328fe783460');\n",
              "          const dataTable =\n",
              "            await google.colab.kernel.invokeFunction('convertToInteractive',\n",
              "                                                     [key], {});\n",
              "          if (!dataTable) return;\n",
              "\n",
              "          const docLinkHtml = 'Like what you see? Visit the ' +\n",
              "            '<a target=\"_blank\" href=https://colab.research.google.com/notebooks/data_table.ipynb>data table notebook</a>'\n",
              "            + ' to learn more about interactive tables.';\n",
              "          element.innerHTML = '';\n",
              "          dataTable['output_type'] = 'display_data';\n",
              "          await google.colab.output.renderOutput(dataTable, element);\n",
              "          const docLink = document.createElement('div');\n",
              "          docLink.innerHTML = docLinkHtml;\n",
              "          element.appendChild(docLink);\n",
              "        }\n",
              "      </script>\n",
              "    </div>\n",
              "  </div>\n",
              "  "
            ]
          },
          "metadata": {},
          "execution_count": 51
        }
      ]
    },
    {
      "cell_type": "code",
      "execution_count": 52,
      "metadata": {
        "id": "pQo2iXQLPjnR",
        "colab": {
          "base_uri": "https://localhost:8080/"
        },
        "outputId": "9eeb3190-1a12-46a4-dd81-332a85c51e59"
      },
      "outputs": [
        {
          "output_type": "stream",
          "name": "stdout",
          "text": [
            "37.5%\n"
          ]
        }
      ],
      "source": [
        "# Paradigma imperativo.\n",
        "\n",
        "notas = dados_df['nota']\n",
        "detratores, promotores = 0,0\n",
        "\n",
        "for nota in notas:\n",
        "  if nota >= 9:\n",
        "    promotores += 1\n",
        "  elif nota <= 6:\n",
        "    detratores += 1\n",
        "\n",
        "nps = (promotores - detratores) / len(notas) * 100\n",
        "print(f'{nps}%')"
      ]
    },
    {
      "cell_type": "code",
      "source": [
        "# Paradigma Funcional.\n",
        "\n",
        "def calcular_nps(notas):\n",
        "  # Por ser uma list do Python, aplicamos o conceito de \"list comprehension\" para filtrar nossos Feedbacks.\n",
        "  detratores = sum([1 for nota in notas if nota <= 6])\n",
        "  # Conceito de indexação booleana\n",
        "  promotores = notas[notas >= 9].count()\n",
        "\n",
        "  return (promotores - detratores) / len(notas) * 100\n",
        "\n",
        "\n",
        "notas = dados_df['nota']\n",
        "print(f'{calcular_nps(notas)}%')"
      ],
      "metadata": {
        "id": "-qLL6LQ1qcAR",
        "colab": {
          "base_uri": "https://localhost:8080/"
        },
        "outputId": "704ebf10-9121-45bf-b8f5-f121400b91d4"
      },
      "execution_count": 53,
      "outputs": [
        {
          "output_type": "stream",
          "name": "stdout",
          "text": [
            "37.5%\n"
          ]
        }
      ]
    },
    {
      "cell_type": "code",
      "source": [
        "dados_df['nota'].plot(kind = 'hist', title = 'Frequência de Notas', edgecolor = 'white');"
      ],
      "metadata": {
        "colab": {
          "base_uri": "https://localhost:8080/",
          "height": 453
        },
        "id": "7M79-smQxFJT",
        "outputId": "2b363634-e874-4c37-81a4-0d9ccc8ebbc2"
      },
      "execution_count": 54,
      "outputs": [
        {
          "output_type": "display_data",
          "data": {
            "text/plain": [
              "<Figure size 640x480 with 1 Axes>"
            ],
            "image/png": "[encoded data removed]"
          },
          "metadata": {}
        }
      ]
    },
    {
      "cell_type": "code",
      "source": [
        "# Paradigma de orientação a objetos.\n",
        "\n",
        "class Feedback:\n",
        "  def __init__(self, nota, comentario):\n",
        "    self.nota = nota\n",
        "    self.comentario = comentario\n",
        "\n",
        "\n",
        "class AnalisadorFeedback:\n",
        "  def __init__(self, feedbacks):\n",
        "    self.feedbacks = feedbacks\n",
        "\n",
        "\n",
        "  def calcular_nps(self):\n",
        "    detratores = sum([1 for feedback in self.feedbacks if feedback.nota <= 6])\n",
        "    promotores = sum([1 for feedback in self.feedbacks if feedback.nota >= 9])\n",
        "\n",
        "    return (promotores - detratores) / len(self.feedbacks) * 100\n",
        "\n",
        "\n",
        "feedbacks = [Feedback(linha['nota'], linha['comentario'])  for i, linha in dados_df.iterrows()]\n",
        "\n",
        "analisador = AnalisadorFeedback(feedbacks)\n",
        "nps = analisador.calcular_nps()\n",
        "\n",
        "print(f'{nps}%')"
      ],
      "metadata": {
        "id": "Rzhk-sOXrwJb",
        "colab": {
          "base_uri": "https://localhost:8080/"
        },
        "outputId": "c91dcffd-4190-48b9-e00d-5dc9080ced8b"
      },
      "execution_count": 55,
      "outputs": [
        {
          "output_type": "stream",
          "name": "stdout",
          "text": [
            "37.5%\n"
          ]
        }
      ]
    },
    {
      "cell_type": "markdown",
      "source": [
        "## Dia 2: Desvendando o Poder dos Seus Dados com Python\n",
        "\n",
        "No segundo dia, vamos conectar nosso Google Colab ao Google Drive, extrair dados do NPS e aplicar as técnicas de ETL (Extração, Transformação e Carregamento) nesses dados. Com a ajuda da biblioteca matplotlib, criaremos gráficos para visualizar e compreender o nível de satisfação dos nossos usuários."
      ],
      "metadata": {
        "id": "ekkcgs-nujuG"
      }
    },
    {
      "cell_type": "code",
      "source": [
        "\"\"\"\n",
        "Criar um gráfico usando \"matplotlib\" para visualizar o NPS que calculamos no Dia 1!\n",
        "\"\"\"\n",
        "\n",
        "import matplotlib.pyplot as plt\n",
        "import matplotlib.patches as mpatches\n",
        "\n",
        "# Constantes que serão usadas para visualizar o NPS\n",
        "NPS_ZONAS = ['Crítico', 'Aperfeiçoamento', 'Qualidade', 'Excelência']\n",
        "NPS_VALORES = [-100, 0, 50, 75, 100]\n",
        "NPS_CORES = ['#FF595E', '#FFCA3A', '#8AC926', '#1982C4']\n",
        "\n",
        "def criar_grafico_nps(nps):\n",
        "  fig, ax = plt.subplots(figsize =(10,2))\n",
        "\n",
        "  for i, zona in enumerate(NPS_ZONAS):\n",
        "    ax.barh([0], width = NPS_VALORES[i+1] - NPS_VALORES[i], left = NPS_VALORES[i] , color = NPS_CORES[i]);\n",
        "\n",
        "  ax.barh([0], width = 0.7, left = nps, color = 'black')\n",
        "\n",
        "  ax.set_yticks([])  # Retirando os valores do eixo y;\n",
        "  ax.set_xlim(-100, 100)   # Configurando os limites do eixo x;\n",
        "  ax.set_xticks(NPS_VALORES) # Configurando para aparecer somentes os valores que são realmente utilizados;\n",
        "\n",
        "  ax.text(nps, 0, f'{nps:.1f}', ha = 'center', va = 'center', color = 'white', bbox = dict(facecolor = 'black'))\n",
        "\n",
        "  patches = [mpatches.Patch(color = NPS_CORES[i], label = NPS_ZONAS[i]) for i in range(len(NPS_ZONAS))]\n",
        "  plt.legend(handles = patches, bbox_to_anchor = (1,1))\n",
        "\n",
        "  plt.title('Gráfico: NPS - iFood Dev-Week')\n",
        "  plt.show();\n",
        "\n",
        "criar_grafico_nps(nps)"
      ],
      "metadata": {
        "colab": {
          "base_uri": "https://localhost:8080/",
          "height": 237
        },
        "id": "iX1VbHbrI-0n",
        "outputId": "1adc172f-d4a3-4108-f1d9-4568442bf749"
      },
      "execution_count": 56,
      "outputs": [
        {
          "output_type": "display_data",
          "data": {
            "text/plain": [
              "<Figure size 1000x200 with 1 Axes>"
            ],
            "image/png": "[encoded data removed]"
          },
          "metadata": {}
        }
      ]
    },
    {
      "cell_type": "markdown",
      "source": [
        "## Dia 3: Decifrando Sentimentos com Inteligência Artificial (IA)\n",
        "\n",
        "No último dia, vamos utilizar as técnicas de Processamento de Linguagem Natural (PLN) para analisar os sentimentos expressos nos comentários associados às notas de NPS. Dessa forma, teremos uma perspectiva qualitativa que complementa nossos dados quantitativos."
      ],
      "metadata": {
        "id": "jHl6lLS1usU1"
      }
    },
    {
      "cell_type": "code",
      "source": [
        "!pip install openai"
      ],
      "metadata": {
        "id": "-V5Gk45o14za"
      },
      "execution_count": 61,
      "outputs": []
    },
    {
      "cell_type": "code",
      "source": [
        "# Integração com o chat-gpt\n",
        "# Vamos precisar gerar uma API Key nessa parte do projeto e para gerar uma API Key:\n",
        "# 1. Crie uma conta na OpenAI\n",
        "# 2. Acesse a seção \"API Keys\"\n",
        "# 3. Clique em \"Create API Key\"\n",
        "# Link direto: https://platform.openai.com/account/api-keys\n",
        "\n",
        "# Substitua o texto TODO por sua API Key da OpenAI, ela será salva como uma variável de ambiente.\n",
        "openai_api_key = 'TODO'"
      ],
      "metadata": {
        "id": "1lXI1TRaKDSr"
      },
      "execution_count": 58,
      "outputs": []
    },
    {
      "cell_type": "code",
      "source": [
        "import openai\n",
        "\n",
        "openai.api_key = openai_api_key\n",
        "\n",
        "def analisar_sentimentos(feedbacks):\n",
        "  comentarios_formatados = \"\\n\".join([f\" - {feedback.comentario}\" for feedback in feedbacks])\n",
        "  prompt = f'Análise os seguintes comentários e classifique-os apenas em: positivo, neutro ou negativo: {comentarios_formatados}. Logo após, sintetize uma análise geral sobre o resultado.'\n",
        "\n",
        "  resposta_API = openai.ChatCompletion.create(\n",
        "      model = \"gpt-4\",\n",
        "      messages = [\n",
        "          {\n",
        "              \"role\": \"system\",\n",
        "              \"content\": \"Você é um modelo de análise de sentimentos, com foco em feedbacks sobre experiências educacionais.\"\n",
        "          },\n",
        "          {\n",
        "              \"role\": \"user\",\n",
        "              \"content\": prompt\n",
        "          }\n",
        "      ]\n",
        "  )\n",
        "\n",
        "  return resposta_API.choices[0].message.content\n",
        "\n",
        "\n",
        "insights = analisar_sentimentos(feedbacks)\n",
        "print(insights)"
      ],
      "metadata": {
        "id": "GLIfM6OKKIub"
      },
      "execution_count": 60,
      "outputs": []
    }
  ]
}